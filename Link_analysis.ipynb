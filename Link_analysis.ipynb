{
 "cells": [
  {
   "cell_type": "markdown",
   "metadata": {},
   "source": [
    "<h1><center>Network graph visualisation with pyvis</center></h1>"
   ]
  },
  {
   "cell_type": "markdown",
   "metadata": {},
   "source": [
    "Example script to visualize an ownership structure. Pyvis library is used for interactive network visualisations."
   ]
  },
  {
   "cell_type": "markdown",
   "metadata": {},
   "source": [
    "<h2>0. Source data</h2>"
   ]
  },
  {
   "cell_type": "markdown",
   "metadata": {},
   "source": [
    "The master data is included in three files:\n",
    "\n",
    "- a list of companies and owners,\n",
    "- a list of companies and employees, and\n",
    "- a list of company purchasing transactions\n",
    "\n",
    "The objective is to visualise connections between companies and employees."
   ]
  },
  {
   "cell_type": "code",
   "execution_count": 1,
   "metadata": {},
   "outputs": [
    {
     "data": {
      "text/html": [
       "<div>\n",
       "<style scoped>\n",
       "    .dataframe tbody tr th:only-of-type {\n",
       "        vertical-align: middle;\n",
       "    }\n",
       "\n",
       "    .dataframe tbody tr th {\n",
       "        vertical-align: top;\n",
       "    }\n",
       "\n",
       "    .dataframe thead th {\n",
       "        text-align: right;\n",
       "    }\n",
       "</style>\n",
       "<table border=\"1\" class=\"dataframe\">\n",
       "  <thead>\n",
       "    <tr style=\"text-align: right;\">\n",
       "      <th></th>\n",
       "      <th>Company</th>\n",
       "      <th>Shareholder</th>\n",
       "      <th>Percentage</th>\n",
       "      <th>Type owner</th>\n",
       "      <th>Director</th>\n",
       "    </tr>\n",
       "  </thead>\n",
       "  <tbody>\n",
       "    <tr>\n",
       "      <th>0</th>\n",
       "      <td>Alpha Operations</td>\n",
       "      <td>Alpha Holding</td>\n",
       "      <td>100%</td>\n",
       "      <td>Organisation</td>\n",
       "      <td>Deltacorp</td>\n",
       "    </tr>\n",
       "    <tr>\n",
       "      <th>1</th>\n",
       "      <td>Alpha Holding</td>\n",
       "      <td>John Doe</td>\n",
       "      <td>50%</td>\n",
       "      <td>Individual</td>\n",
       "      <td>John Doe</td>\n",
       "    </tr>\n",
       "    <tr>\n",
       "      <th>2</th>\n",
       "      <td>Deltacorp</td>\n",
       "      <td>None</td>\n",
       "      <td>None</td>\n",
       "      <td>None</td>\n",
       "      <td>None</td>\n",
       "    </tr>\n",
       "    <tr>\n",
       "      <th>3</th>\n",
       "      <td>BetaCorp</td>\n",
       "      <td>Jane Roe</td>\n",
       "      <td>100%</td>\n",
       "      <td>Individual</td>\n",
       "      <td>None</td>\n",
       "    </tr>\n",
       "    <tr>\n",
       "      <th>4</th>\n",
       "      <td>GammaCorp</td>\n",
       "      <td>Jane Roe</td>\n",
       "      <td>100%</td>\n",
       "      <td>Individual</td>\n",
       "      <td>John Doe</td>\n",
       "    </tr>\n",
       "    <tr>\n",
       "      <th>5</th>\n",
       "      <td>Epsilon Operations</td>\n",
       "      <td>Jane Roe</td>\n",
       "      <td>100%</td>\n",
       "      <td>Individual</td>\n",
       "      <td>None</td>\n",
       "    </tr>\n",
       "    <tr>\n",
       "      <th>6</th>\n",
       "      <td>Alpha Holding</td>\n",
       "      <td>GammaCorp</td>\n",
       "      <td>50%</td>\n",
       "      <td>Individual</td>\n",
       "      <td>None</td>\n",
       "    </tr>\n",
       "  </tbody>\n",
       "</table>\n",
       "</div>"
      ],
      "text/plain": [
       "              Company    Shareholder Percentage    Type owner   Director\n",
       "0    Alpha Operations  Alpha Holding       100%  Organisation  Deltacorp\n",
       "1       Alpha Holding       John Doe        50%    Individual   John Doe\n",
       "2           Deltacorp           None       None          None       None\n",
       "3            BetaCorp       Jane Roe       100%    Individual       None\n",
       "4           GammaCorp       Jane Roe       100%    Individual   John Doe\n",
       "5  Epsilon Operations       Jane Roe       100%    Individual       None\n",
       "6       Alpha Holding      GammaCorp        50%    Individual       None"
      ]
     },
     "execution_count": 1,
     "metadata": {},
     "output_type": "execute_result"
    }
   ],
   "source": [
    "# generate source data, companies, shareholders and directors\n",
    "\n",
    "import pandas as pd\n",
    "\n",
    "df1 = pd.DataFrame([\n",
    "    ['Alpha Operations','Alpha Holding','100%','Organisation','Deltacorp'],\n",
    "    ['Alpha Holding','John Doe','50%','Individual','John Doe'],\n",
    "    ['Deltacorp'],\n",
    "    ['BetaCorp','Jane Roe','100%','Individual'],\n",
    "    ['GammaCorp','Jane Roe','100%','Individual','John Doe'],\n",
    "    ['Epsilon Operations','Jane Roe','100%','Individual'],\n",
    "    ['Alpha Holding','GammaCorp','50%','Individual']],\n",
    "    columns = ['Company', 'Shareholder', 'Percentage', 'Type owner', 'Director'])\n",
    "\n",
    "df1"
   ]
  },
  {
   "cell_type": "markdown",
   "metadata": {},
   "source": [
    "<h2>2. Graph visualisation with pyvis</h2>"
   ]
  },
  {
   "cell_type": "code",
   "execution_count": 2,
   "metadata": {},
   "outputs": [],
   "source": [
    "from pyvis.network import Network\n",
    "import networkx as nx\n",
    "\n",
    "N = Network(height='600px', width='1200px', directed=True)\n",
    "N.set_edge_smooth('discrete')\n",
    "\n",
    "# add nodes and edges to the network, leave out empty cells, nodes are set to not move unless dragged (physics=False)\n",
    "\n",
    "for i in range(0,len(df1)):\n",
    "    \n",
    "# adding company nodes\n",
    "    \n",
    "    if pd.isnull(df1.loc[i,'Company']) == True: \n",
    "        next\n",
    "    else:\n",
    "        N.add_node(df1.loc[i,'Company'], label=df1.loc[i,'Company'], physics=False)\n",
    "        \n",
    "# adding owner notes\n",
    "        \n",
    "    if pd.isnull(df1.loc[i,'Shareholder']) == True: \n",
    "        next\n",
    "    else:\n",
    "        N.add_node(df1.loc[i,'Shareholder'], label=df1.loc[i,'Shareholder'], physics=False)  \n",
    "        \n",
    "# adding director notes\n",
    "        \n",
    "    if pd.isnull(df1.loc[i,'Director']) == True: \n",
    "        next\n",
    "    else:\n",
    "        N.add_node(df1.loc[i,'Director'], label=df1.loc[i,'Director'], physics=False)\n",
    "        \n",
    "# adding edges\n",
    "        \n",
    "    if pd.isnull(df1.loc[i,'Shareholder']) == True: \n",
    "        next               \n",
    "    elif pd.isnull(df1.loc[i,'Company']) == True:\n",
    "        next\n",
    "    else:\n",
    "        N.add_edge(df1.loc[i,'Shareholder'], df1.loc[i,'Company'], label=df1.loc[i,'Percentage'], color='black', smooth=False)\n",
    "        if pd.isnull(df1.loc[i,'Director']) == True:\n",
    "            next\n",
    "        else:\n",
    "            N.add_edge(df1.loc[i,'Director'], df1.loc[i,'Company'], label='Director', color='red', smooth=True)\n",
    "\n",
    "# color all companies in green and individuals in yellow\n",
    "\n",
    "for node in N.nodes:\n",
    "    if node[\"label\"] in list(df1['Company']):\n",
    "        node[\"color\"] = \"yellow\"\n",
    "        node[\"shape\"] = \"box\"\n",
    "    elif node[\"label\"] in list(df1.Shareholder[df1['Type owner'] == 'Individual']):\n",
    "        node[\"color\"] = \"green\"\n",
    "        node[\"shape\"] = \"triangle\"\n",
    "\n",
    "# show network\n",
    "        \n",
    "N.show(\"N.html\")"
   ]
  },
  {
   "cell_type": "markdown",
   "metadata": {},
   "source": [
    "<h2>3. Known issues</h2>\n",
    "\n",
    "- If additional edges should are added (e.g. director relationships), their labels will overlap with the labels of existing edges (see also: https://github.com/almende/vis/issues/1957). If only one dimension is added, activating smoothness for one of the edges might be a workaround."
   ]
  },
  {
   "cell_type": "markdown",
   "metadata": {},
   "source": [
    "<h2>4. References</h2>\n",
    "\n",
    "- Pandas: https://pandas.pydata.org/\n",
    "- pyvis: https://pyvis.readthedocs.io/en/latest/\n",
    "- vis.js formatting details: https://visjs.github.io/vis-network/docs/network/"
   ]
  }
 ],
 "metadata": {
  "kernelspec": {
   "display_name": "Python 3",
   "language": "python",
   "name": "python3"
  },
  "language_info": {
   "codemirror_mode": {
    "name": "ipython",
    "version": 3
   },
   "file_extension": ".py",
   "mimetype": "text/x-python",
   "name": "python",
   "nbconvert_exporter": "python",
   "pygments_lexer": "ipython3",
   "version": "3.6.6"
  }
 },
 "nbformat": 4,
 "nbformat_minor": 2
}
