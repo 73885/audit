{
 "cells": [
  {
   "cell_type": "markdown",
   "metadata": {},
   "source": [
    "<h1>Regex search in multiple pdf files</h1>"
   ]
  },
  {
   "cell_type": "code",
   "execution_count": 1,
   "metadata": {},
   "outputs": [
    {
     "data": {
      "text/plain": [
       "['test.pdf', 'test2.pdf']"
      ]
     },
     "execution_count": 1,
     "metadata": {},
     "output_type": "execute_result"
    }
   ],
   "source": [
    "# create a list of files in the directory to be parsed, e.g. all pdf files\n",
    "\n",
    "import glob\n",
    "documents = glob.glob('*.pdf')\n",
    "documents"
   ]
  },
  {
   "cell_type": "code",
   "execution_count": 2,
   "metadata": {},
   "outputs": [
    {
     "name": "stdout",
     "output_type": "stream",
     "text": [
      "\u001b[4mDocument:test.pdf\u001b[0m\n",
      "\n",
      "No results.\n",
      "\n",
      "\u001b[4mDocument:test2.pdf\u001b[0m\n",
      "\n",
      "2 hits \n",
      "\n",
      "---------- Position 00-03: DHL ----------\n",
      "\n",
      "\u001b[43mDHL\u001b[0m Parcel For You\n",
      "Inte\n",
      "\n",
      "---------- Position 81-84: DHL ----------\n",
      "\n",
      ",\n",
      "please return to:\n",
      "\u001b[43mDHL\u001b[0m Global Mail NL\n",
      "Am E\n",
      "\n"
     ]
    }
   ],
   "source": [
    "# extract content of files\n",
    "# results are highlighted with yellow background (ANSI escape code: \\033[43m)\n",
    "\n",
    "import textract\n",
    "import re\n",
    "\n",
    "regex = \"[D][H][L]\" #searchterm\n",
    "area = 20 #space around results to be printed with the result\n",
    "\n",
    "for i in documents:\n",
    "    print('\\033[4m'+'Document:'+i+'\\033[0m'+'\\n')\n",
    "    \n",
    "    text = textract.process(i).decode('utf-8') #use textract to convert pdf into text and format for further processing\n",
    "    \n",
    "    if re.findall(regex, text) == []: #check if any results are found, if not, next document\n",
    "        print('No results.\\n')\n",
    "        \n",
    "    else:\n",
    "        print('%s hits \\n' % len(re.findall(regex, text)))\n",
    "        for m in re.finditer(regex, text):\n",
    "            print('---------- Position %02d-%02d: %s ----------\\n' % (m.start(), m.end(), m.group(0)))\n",
    "            print(text[m.start()-area:m.start()]+'\\033[43m'+m.group()+'\\033[0m'+text[m.end():m.end()+area]+'\\n')\n",
    "   \n",
    "    "
   ]
  },
  {
   "cell_type": "markdown",
   "metadata": {},
   "source": [
    "<h1>References</h1>"
   ]
  },
  {
   "cell_type": "markdown",
   "metadata": {},
   "source": [
    "- Glob to create a list of input files: https://docs.python.org/2/library/glob.html\n",
    "- Textract to extract text from pdf: https://textract.readthedocs.io/en/latest/\n",
    "- Re to include regular expressions in the search: https://docs.python.org/3/library/re.html"
   ]
  }
 ],
 "metadata": {
  "kernelspec": {
   "display_name": "Python 3",
   "language": "python",
   "name": "python3"
  },
  "language_info": {
   "codemirror_mode": {
    "name": "ipython",
    "version": 3
   },
   "file_extension": ".py",
   "mimetype": "text/x-python",
   "name": "python",
   "nbconvert_exporter": "python",
   "pygments_lexer": "ipython3",
   "version": "3.6.6"
  }
 },
 "nbformat": 4,
 "nbformat_minor": 2
}
